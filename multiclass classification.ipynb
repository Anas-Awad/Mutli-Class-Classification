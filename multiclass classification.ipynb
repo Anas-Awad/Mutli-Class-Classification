{
 "cells": [
  {
   "cell_type": "code",
   "execution_count": 474,
   "id": "20bb8348",
   "metadata": {},
   "outputs": [
    {
     "data": {
      "text/html": [
       "<style>.container { width:95% !important; }</style>"
      ],
      "text/plain": [
       "<IPython.core.display.HTML object>"
      ]
     },
     "metadata": {},
     "output_type": "display_data"
    }
   ],
   "source": [
    "# widing my cells \n",
    "from IPython.display import display, HTML\n",
    "display(HTML(\"<style>.container { width:95% !important; }</style>\"))"
   ]
  },
  {
   "cell_type": "code",
   "execution_count": 475,
   "id": "72b30207",
   "metadata": {},
   "outputs": [],
   "source": [
    "def sub(x):\n",
    "    df['Color'].loc[df[df['Color'].isin(x)].index] = x[0]  \n",
    "    \n",
    "def other_sub(x):\n",
    "    if df[df.Color == x]['Color'].count() < 10:\n",
    "        df.drop(df[df['Color'] == x].index,inplace=True)"
   ]
  },
  {
   "cell_type": "code",
   "execution_count": 476,
   "id": "36de11c8",
   "metadata": {},
   "outputs": [],
   "source": [
    "import pandas as pd \n",
    "import numpy as np \n",
    "import seaborn as sns \n",
    "from datasist.structdata import detect_outliers\n",
    "import matplotlib.pyplot as plt\n",
    "from warnings import filterwarnings\n",
    "filterwarnings('ignore')\n",
    "%matplotlib inline\n",
    "sns.set_theme(context = 'poster' , style = 'ticks' , palette = 'magma' , font_scale = 0.6 , rc = {'figure.figsize':[18 , 8]})"
   ]
  },
  {
   "cell_type": "code",
   "execution_count": 477,
   "id": "c7c53767",
   "metadata": {},
   "outputs": [],
   "source": [
    "df = pd.read_csv('Stars.csv')"
   ]
  },
  {
   "cell_type": "code",
   "execution_count": 478,
   "id": "b3b919c8",
   "metadata": {},
   "outputs": [
    {
     "data": {
      "text/html": [
       "<div>\n",
       "<style scoped>\n",
       "    .dataframe tbody tr th:only-of-type {\n",
       "        vertical-align: middle;\n",
       "    }\n",
       "\n",
       "    .dataframe tbody tr th {\n",
       "        vertical-align: top;\n",
       "    }\n",
       "\n",
       "    .dataframe thead th {\n",
       "        text-align: right;\n",
       "    }\n",
       "</style>\n",
       "<table border=\"1\" class=\"dataframe\">\n",
       "  <thead>\n",
       "    <tr style=\"text-align: right;\">\n",
       "      <th></th>\n",
       "      <th>Temperature</th>\n",
       "      <th>L</th>\n",
       "      <th>R</th>\n",
       "      <th>A_M</th>\n",
       "      <th>Color</th>\n",
       "      <th>Spectral_Class</th>\n",
       "      <th>Type</th>\n",
       "    </tr>\n",
       "  </thead>\n",
       "  <tbody>\n",
       "    <tr>\n",
       "      <th>0</th>\n",
       "      <td>3068</td>\n",
       "      <td>0.002400</td>\n",
       "      <td>0.1700</td>\n",
       "      <td>16.12</td>\n",
       "      <td>Red</td>\n",
       "      <td>M</td>\n",
       "      <td>Brown Dwarf</td>\n",
       "    </tr>\n",
       "    <tr>\n",
       "      <th>1</th>\n",
       "      <td>3042</td>\n",
       "      <td>0.000500</td>\n",
       "      <td>0.1542</td>\n",
       "      <td>16.60</td>\n",
       "      <td>Red</td>\n",
       "      <td>M</td>\n",
       "      <td>Brown Dwarf</td>\n",
       "    </tr>\n",
       "    <tr>\n",
       "      <th>2</th>\n",
       "      <td>2600</td>\n",
       "      <td>0.000300</td>\n",
       "      <td>0.1020</td>\n",
       "      <td>18.70</td>\n",
       "      <td>Red</td>\n",
       "      <td>M</td>\n",
       "      <td>Brown Dwarf</td>\n",
       "    </tr>\n",
       "    <tr>\n",
       "      <th>3</th>\n",
       "      <td>2800</td>\n",
       "      <td>0.000200</td>\n",
       "      <td>0.1600</td>\n",
       "      <td>16.65</td>\n",
       "      <td>Red</td>\n",
       "      <td>M</td>\n",
       "      <td>Brown Dwarf</td>\n",
       "    </tr>\n",
       "    <tr>\n",
       "      <th>4</th>\n",
       "      <td>1939</td>\n",
       "      <td>0.000138</td>\n",
       "      <td>0.1030</td>\n",
       "      <td>20.06</td>\n",
       "      <td>Red</td>\n",
       "      <td>M</td>\n",
       "      <td>Brown Dwarf</td>\n",
       "    </tr>\n",
       "    <tr>\n",
       "      <th>...</th>\n",
       "      <td>...</td>\n",
       "      <td>...</td>\n",
       "      <td>...</td>\n",
       "      <td>...</td>\n",
       "      <td>...</td>\n",
       "      <td>...</td>\n",
       "      <td>...</td>\n",
       "    </tr>\n",
       "    <tr>\n",
       "      <th>235</th>\n",
       "      <td>38940</td>\n",
       "      <td>374830.000000</td>\n",
       "      <td>1356.0000</td>\n",
       "      <td>-9.93</td>\n",
       "      <td>Blue</td>\n",
       "      <td>O</td>\n",
       "      <td>Hypergiant</td>\n",
       "    </tr>\n",
       "    <tr>\n",
       "      <th>236</th>\n",
       "      <td>30839</td>\n",
       "      <td>834042.000000</td>\n",
       "      <td>1194.0000</td>\n",
       "      <td>-10.63</td>\n",
       "      <td>Blue</td>\n",
       "      <td>O</td>\n",
       "      <td>Hypergiant</td>\n",
       "    </tr>\n",
       "    <tr>\n",
       "      <th>237</th>\n",
       "      <td>8829</td>\n",
       "      <td>537493.000000</td>\n",
       "      <td>1423.0000</td>\n",
       "      <td>-10.73</td>\n",
       "      <td>White</td>\n",
       "      <td>A</td>\n",
       "      <td>Hypergiant</td>\n",
       "    </tr>\n",
       "    <tr>\n",
       "      <th>238</th>\n",
       "      <td>9235</td>\n",
       "      <td>404940.000000</td>\n",
       "      <td>1112.0000</td>\n",
       "      <td>-11.23</td>\n",
       "      <td>White</td>\n",
       "      <td>A</td>\n",
       "      <td>Hypergiant</td>\n",
       "    </tr>\n",
       "    <tr>\n",
       "      <th>239</th>\n",
       "      <td>37882</td>\n",
       "      <td>294903.000000</td>\n",
       "      <td>1783.0000</td>\n",
       "      <td>-7.80</td>\n",
       "      <td>Blue</td>\n",
       "      <td>O</td>\n",
       "      <td>Hypergiant</td>\n",
       "    </tr>\n",
       "  </tbody>\n",
       "</table>\n",
       "<p>240 rows × 7 columns</p>\n",
       "</div>"
      ],
      "text/plain": [
       "     Temperature              L          R    A_M  Color Spectral_Class  \\\n",
       "0           3068       0.002400     0.1700  16.12    Red              M   \n",
       "1           3042       0.000500     0.1542  16.60    Red              M   \n",
       "2           2600       0.000300     0.1020  18.70    Red              M   \n",
       "3           2800       0.000200     0.1600  16.65    Red              M   \n",
       "4           1939       0.000138     0.1030  20.06    Red              M   \n",
       "..           ...            ...        ...    ...    ...            ...   \n",
       "235        38940  374830.000000  1356.0000  -9.93   Blue              O   \n",
       "236        30839  834042.000000  1194.0000 -10.63   Blue              O   \n",
       "237         8829  537493.000000  1423.0000 -10.73  White              A   \n",
       "238         9235  404940.000000  1112.0000 -11.23  White              A   \n",
       "239        37882  294903.000000  1783.0000  -7.80   Blue              O   \n",
       "\n",
       "            Type  \n",
       "0    Brown Dwarf  \n",
       "1    Brown Dwarf  \n",
       "2    Brown Dwarf  \n",
       "3    Brown Dwarf  \n",
       "4    Brown Dwarf  \n",
       "..           ...  \n",
       "235   Hypergiant  \n",
       "236   Hypergiant  \n",
       "237   Hypergiant  \n",
       "238   Hypergiant  \n",
       "239   Hypergiant  \n",
       "\n",
       "[240 rows x 7 columns]"
      ]
     },
     "execution_count": 478,
     "metadata": {},
     "output_type": "execute_result"
    }
   ],
   "source": [
    "df"
   ]
  },
  {
   "cell_type": "code",
   "execution_count": 479,
   "id": "b8efe7f7",
   "metadata": {},
   "outputs": [
    {
     "name": "stdout",
     "output_type": "stream",
     "text": [
      "<class 'pandas.core.frame.DataFrame'>\n",
      "RangeIndex: 240 entries, 0 to 239\n",
      "Data columns (total 7 columns):\n",
      " #   Column          Non-Null Count  Dtype  \n",
      "---  ------          --------------  -----  \n",
      " 0   Temperature     240 non-null    int64  \n",
      " 1   L               240 non-null    float64\n",
      " 2   R               240 non-null    float64\n",
      " 3   A_M             240 non-null    float64\n",
      " 4   Color           240 non-null    object \n",
      " 5   Spectral_Class  240 non-null    object \n",
      " 6   Type            240 non-null    object \n",
      "dtypes: float64(3), int64(1), object(3)\n",
      "memory usage: 13.2+ KB\n"
     ]
    }
   ],
   "source": [
    "df.info()"
   ]
  },
  {
   "cell_type": "code",
   "execution_count": 480,
   "id": "96d7d3cb",
   "metadata": {},
   "outputs": [
    {
     "data": {
      "text/html": [
       "<div>\n",
       "<style scoped>\n",
       "    .dataframe tbody tr th:only-of-type {\n",
       "        vertical-align: middle;\n",
       "    }\n",
       "\n",
       "    .dataframe tbody tr th {\n",
       "        vertical-align: top;\n",
       "    }\n",
       "\n",
       "    .dataframe thead th {\n",
       "        text-align: right;\n",
       "    }\n",
       "</style>\n",
       "<table border=\"1\" class=\"dataframe\">\n",
       "  <thead>\n",
       "    <tr style=\"text-align: right;\">\n",
       "      <th></th>\n",
       "      <th>Temperature</th>\n",
       "      <th>L</th>\n",
       "      <th>R</th>\n",
       "      <th>A_M</th>\n",
       "    </tr>\n",
       "  </thead>\n",
       "  <tbody>\n",
       "    <tr>\n",
       "      <th>count</th>\n",
       "      <td>240.000000</td>\n",
       "      <td>240.000000</td>\n",
       "      <td>240.000000</td>\n",
       "      <td>240.000000</td>\n",
       "    </tr>\n",
       "    <tr>\n",
       "      <th>mean</th>\n",
       "      <td>10497.462500</td>\n",
       "      <td>107188.361635</td>\n",
       "      <td>237.157781</td>\n",
       "      <td>4.382396</td>\n",
       "    </tr>\n",
       "    <tr>\n",
       "      <th>std</th>\n",
       "      <td>9552.425037</td>\n",
       "      <td>179432.244940</td>\n",
       "      <td>517.155763</td>\n",
       "      <td>10.532512</td>\n",
       "    </tr>\n",
       "    <tr>\n",
       "      <th>min</th>\n",
       "      <td>1939.000000</td>\n",
       "      <td>0.000080</td>\n",
       "      <td>0.008400</td>\n",
       "      <td>-11.920000</td>\n",
       "    </tr>\n",
       "    <tr>\n",
       "      <th>25%</th>\n",
       "      <td>3344.250000</td>\n",
       "      <td>0.000865</td>\n",
       "      <td>0.102750</td>\n",
       "      <td>-6.232500</td>\n",
       "    </tr>\n",
       "    <tr>\n",
       "      <th>50%</th>\n",
       "      <td>5776.000000</td>\n",
       "      <td>0.070500</td>\n",
       "      <td>0.762500</td>\n",
       "      <td>8.313000</td>\n",
       "    </tr>\n",
       "    <tr>\n",
       "      <th>75%</th>\n",
       "      <td>15055.500000</td>\n",
       "      <td>198050.000000</td>\n",
       "      <td>42.750000</td>\n",
       "      <td>13.697500</td>\n",
       "    </tr>\n",
       "    <tr>\n",
       "      <th>max</th>\n",
       "      <td>40000.000000</td>\n",
       "      <td>849420.000000</td>\n",
       "      <td>1948.500000</td>\n",
       "      <td>20.060000</td>\n",
       "    </tr>\n",
       "  </tbody>\n",
       "</table>\n",
       "</div>"
      ],
      "text/plain": [
       "        Temperature              L            R         A_M\n",
       "count    240.000000     240.000000   240.000000  240.000000\n",
       "mean   10497.462500  107188.361635   237.157781    4.382396\n",
       "std     9552.425037  179432.244940   517.155763   10.532512\n",
       "min     1939.000000       0.000080     0.008400  -11.920000\n",
       "25%     3344.250000       0.000865     0.102750   -6.232500\n",
       "50%     5776.000000       0.070500     0.762500    8.313000\n",
       "75%    15055.500000  198050.000000    42.750000   13.697500\n",
       "max    40000.000000  849420.000000  1948.500000   20.060000"
      ]
     },
     "execution_count": 480,
     "metadata": {},
     "output_type": "execute_result"
    }
   ],
   "source": [
    "df.describe()"
   ]
  },
  {
   "cell_type": "code",
   "execution_count": 481,
   "id": "87759979",
   "metadata": {},
   "outputs": [
    {
     "data": {
      "text/plain": [
       "0"
      ]
     },
     "execution_count": 481,
     "metadata": {},
     "output_type": "execute_result"
    }
   ],
   "source": [
    "df.duplicated().sum()"
   ]
  },
  {
   "cell_type": "markdown",
   "id": "119ac2b6",
   "metadata": {},
   "source": [
    "## Univariant Analysis"
   ]
  },
  {
   "cell_type": "code",
   "execution_count": 482,
   "id": "0d872c6a",
   "metadata": {},
   "outputs": [
    {
     "data": {
      "text/plain": [
       "Text(0.5, 1.0, 'Absolute Magnitude Distribution')"
      ]
     },
     "execution_count": 482,
     "metadata": {},
     "output_type": "execute_result"
    },
    {
     "data": {
      "image/png": "[encoded data removed]",
      "text/plain": [
       "<Figure size 1800x576 with 4 Axes>"
      ]
     },
     "metadata": {},
     "output_type": "display_data"
    }
   ],
   "source": [
    "# Creating a grid figure with matplotlib\n",
    "fig, my_grid = plt.subplots(nrows=1, ncols=4, figsize=(25,8))\n",
    "\n",
    "\n",
    "# First plot\n",
    "a = sns.histplot(df['Temperature'],kde=True,ax=my_grid[0])\n",
    "a.set_title('Tempreture Distribution')\n",
    "\n",
    "# Second plot\n",
    "a = sns.histplot(df['L'],kde=True,ax=my_grid[1]) # bar plot 2 data\n",
    "a.set_title('Luminosity  Distribution')\n",
    "\n",
    "# third plot\n",
    "a = sns.histplot(df['R'],kde=True,ax=my_grid[2]) # bar plot 2 data\n",
    "a.set_title('Radius Distribution')\n",
    "\n",
    "#4rth plot\n",
    "a = sns.histplot(df['A_M'],kde=True,ax=my_grid[3]) # bar plot 2 data\n",
    "a.set_title('Absolute Magnitude Distribution')"
   ]
  },
  {
   "cell_type": "code",
   "execution_count": 483,
   "id": "3aded19d",
   "metadata": {},
   "outputs": [
    {
     "data": {
      "text/plain": [
       "[30, 49, 99, 100, 101, 109, 159, 214, 231, 235, 239]"
      ]
     },
     "execution_count": 483,
     "metadata": {},
     "output_type": "execute_result"
    }
   ],
   "source": [
    "detect_outliers(df, 0, ['Temperature'])"
   ]
  },
  {
   "cell_type": "code",
   "execution_count": 484,
   "id": "0a3e3389",
   "metadata": {},
   "outputs": [
    {
     "data": {
      "text/plain": [
       "[53, 101, 172, 223, 226, 227, 229, 232, 233, 234, 236, 237]"
      ]
     },
     "execution_count": 484,
     "metadata": {},
     "output_type": "execute_result"
    }
   ],
   "source": [
    "detect_outliers(df, 0, ['L'])"
   ]
  },
  {
   "cell_type": "code",
   "execution_count": 485,
   "id": "1a7401b1",
   "metadata": {},
   "outputs": [
    {
     "data": {
      "text/plain": [
       "40"
      ]
     },
     "execution_count": 485,
     "metadata": {},
     "output_type": "execute_result"
    }
   ],
   "source": [
    "len(detect_outliers(df, 0, ['R']))"
   ]
  },
  {
   "cell_type": "code",
   "execution_count": 486,
   "id": "1010d61b",
   "metadata": {},
   "outputs": [
    {
     "data": {
      "text/plain": [
       "[]"
      ]
     },
     "execution_count": 486,
     "metadata": {},
     "output_type": "execute_result"
    }
   ],
   "source": [
    "detect_outliers(df, 0, ['A_M'])"
   ]
  },
  {
   "cell_type": "code",
   "execution_count": 487,
   "id": "cbbe1482",
   "metadata": {},
   "outputs": [
    {
     "data": {
      "text/plain": [
       "<AxesSubplot:xlabel='R'>"
      ]
     },
     "execution_count": 487,
     "metadata": {},
     "output_type": "execute_result"
    },
    {
     "data": {
      "image/png": "[encoded data removed]",
      "text/plain": [
       "<Figure size 1296x576 with 1 Axes>"
      ]
     },
     "metadata": {},
     "output_type": "display_data"
    }
   ],
   "source": [
    "sns.boxplot(df['R'])"
   ]
  },
  {
   "cell_type": "code",
   "execution_count": 488,
   "id": "42dd53b2",
   "metadata": {},
   "outputs": [
    {
     "data": {
      "text/plain": [
       "<AxesSubplot:xlabel='R', ylabel='Count'>"
      ]
     },
     "execution_count": 488,
     "metadata": {},
     "output_type": "execute_result"
    },
    {
     "data": {
      "image/png": "[encoded data removed]",
      "text/plain": [
       "<Figure size 1296x576 with 1 Axes>"
      ]
     },
     "metadata": {},
     "output_type": "display_data"
    }
   ],
   "source": [
    "sns.histplot(np.log(df['R']))"
   ]
  },
  {
   "cell_type": "code",
   "execution_count": 489,
   "id": "eff57a35",
   "metadata": {},
   "outputs": [
    {
     "data": {
      "text/plain": [
       "Temperature       0\n",
       "L                 0\n",
       "R                 0\n",
       "A_M               0\n",
       "Color             0\n",
       "Spectral_Class    0\n",
       "Type              0\n",
       "dtype: int64"
      ]
     },
     "execution_count": 489,
     "metadata": {},
     "output_type": "execute_result"
    }
   ],
   "source": [
    "df.isnull().sum()"
   ]
  },
  {
   "cell_type": "code",
   "execution_count": 490,
   "id": "25860fde",
   "metadata": {},
   "outputs": [
    {
     "data": {
      "text/plain": [
       "Red                   112\n",
       "Blue                   56\n",
       "Blue-white             26\n",
       "Blue White             10\n",
       "yellow-white            8\n",
       "White                   7\n",
       "Blue white              4\n",
       "white                   3\n",
       "Yellowish White         3\n",
       "yellowish               2\n",
       "Whitish                 2\n",
       "Orange                  2\n",
       "White-Yellow            1\n",
       "Pale yellow orange      1\n",
       "Yellowish               1\n",
       "Orange-Red              1\n",
       "Blue-White              1\n",
       "Name: Color, dtype: int64"
      ]
     },
     "execution_count": 490,
     "metadata": {},
     "output_type": "execute_result"
    }
   ],
   "source": [
    "df.Color.value_counts()"
   ]
  },
  {
   "cell_type": "code",
   "execution_count": 491,
   "id": "90d08acb",
   "metadata": {},
   "outputs": [],
   "source": [
    "colors_resub = [['Blue-White', 'Blue White', 'Blue white','Blue-White','Blue-white'],\n",
    "                ['White','white','Whitish'],  ['Yellow-White', 'White-Yellow', 'Yellowish White','yellow-white'],\n",
    "                ['Yellow','yellowish','Yellowish']]"
   ]
  },
  {
   "cell_type": "code",
   "execution_count": 492,
   "id": "53ad24ef",
   "metadata": {},
   "outputs": [],
   "source": [
    "## cleaning the colors missmatch writing \n",
    "for colors in colors_resub: \n",
    "    sub(colors)"
   ]
  },
  {
   "cell_type": "code",
   "execution_count": 493,
   "id": "5a0b23c9",
   "metadata": {},
   "outputs": [],
   "source": [
    "# delete colors that has a frequency less than 10  \n",
    "for color in df['Color'].unique().tolist():\n",
    "    other_sub(color)"
   ]
  },
  {
   "cell_type": "code",
   "execution_count": 494,
   "id": "bcd1d8a6",
   "metadata": {},
   "outputs": [
    {
     "data": {
      "text/plain": [
       "Red             112\n",
       "Blue             56\n",
       "Blue-White       41\n",
       "White            12\n",
       "Yellow-White     12\n",
       "Name: Color, dtype: int64"
      ]
     },
     "execution_count": 494,
     "metadata": {},
     "output_type": "execute_result"
    }
   ],
   "source": [
    "df.Color.value_counts()"
   ]
  },
  {
   "cell_type": "code",
   "execution_count": 423,
   "id": "424730a5",
   "metadata": {},
   "outputs": [
    {
     "data": {
      "text/plain": [
       "Brown Dwarf      40\n",
       "Red Dwarf        40\n",
       "Supergiant       40\n",
       "White Dwarf      39\n",
       "Main Sequence    36\n",
       "Hypergiant        3\n",
       "Name: Type, dtype: int64"
      ]
     },
     "execution_count": 423,
     "metadata": {},
     "output_type": "execute_result"
    }
   ],
   "source": [
    "df.Type.value_counts()"
   ]
  },
  {
   "cell_type": "code",
   "execution_count": 424,
   "id": "1aac28f1",
   "metadata": {},
   "outputs": [
    {
     "data": {
      "text/plain": [
       "M    91\n",
       "B    40\n",
       "O    34\n",
       "A    17\n",
       "F    16\n",
       "Name: Spectral_Class, dtype: int64"
      ]
     },
     "execution_count": 424,
     "metadata": {},
     "output_type": "execute_result"
    }
   ],
   "source": [
    "df.Spectral_Class.value_counts()"
   ]
  },
  {
   "cell_type": "code",
   "execution_count": 425,
   "id": "a7afac83",
   "metadata": {},
   "outputs": [],
   "source": [
    "for clas in df['Spectral_Class'].unique().tolist():\n",
    "    if df[df.Spectral_Class == clas]['Spectral_Class'].count() < 10:\n",
    "        df.drop(df[df['Spectral_Class'] == clas].index,inplace=True)"
   ]
  },
  {
   "cell_type": "code",
   "execution_count": 426,
   "id": "d8399099",
   "metadata": {},
   "outputs": [
    {
     "data": {
      "text/plain": [
       "M    91\n",
       "B    40\n",
       "O    34\n",
       "A    17\n",
       "F    16\n",
       "Name: Spectral_Class, dtype: int64"
      ]
     },
     "execution_count": 426,
     "metadata": {},
     "output_type": "execute_result"
    }
   ],
   "source": [
    "df.Spectral_Class.value_counts()"
   ]
  },
  {
   "cell_type": "code",
   "execution_count": 427,
   "id": "a1dc6a32",
   "metadata": {},
   "outputs": [],
   "source": [
    "from sklearn.model_selection import train_test_split\n",
    "from sklearn.preprocessing import LabelEncoder, OneHotEncoder\n",
    "from sklearn.preprocessing import RobustScaler"
   ]
  },
  {
   "cell_type": "code",
   "execution_count": 428,
   "id": "ea7771dc",
   "metadata": {},
   "outputs": [],
   "source": [
    "target_encoder,features_encoder, O_enc = LabelEncoder(),LabelEncoder(), OneHotEncoder(sparse=False, drop='first')"
   ]
  },
  {
   "cell_type": "code",
   "execution_count": 429,
   "id": "4bdcb1fc",
   "metadata": {},
   "outputs": [],
   "source": [
    "df['Type'] = target_encoder.fit_transform(df['Type'])"
   ]
  },
  {
   "cell_type": "code",
   "execution_count": 430,
   "id": "5d12a137",
   "metadata": {},
   "outputs": [],
   "source": [
    "df['Spectral_Class'] = features_encoder.fit_transform(df['Spectral_Class'])"
   ]
  },
  {
   "cell_type": "code",
   "execution_count": 431,
   "id": "42da5a17",
   "metadata": {},
   "outputs": [
    {
     "data": {
      "text/html": [
       "<div>\n",
       "<style scoped>\n",
       "    .dataframe tbody tr th:only-of-type {\n",
       "        vertical-align: middle;\n",
       "    }\n",
       "\n",
       "    .dataframe tbody tr th {\n",
       "        vertical-align: top;\n",
       "    }\n",
       "\n",
       "    .dataframe thead th {\n",
       "        text-align: right;\n",
       "    }\n",
       "</style>\n",
       "<table border=\"1\" class=\"dataframe\">\n",
       "  <thead>\n",
       "    <tr style=\"text-align: right;\">\n",
       "      <th></th>\n",
       "      <th>Color_Blue-White</th>\n",
       "      <th>Color_Red</th>\n",
       "      <th>Color_White</th>\n",
       "      <th>Color_Yellow-White</th>\n",
       "    </tr>\n",
       "  </thead>\n",
       "  <tbody>\n",
       "    <tr>\n",
       "      <th>0</th>\n",
       "      <td>0.0</td>\n",
       "      <td>1.0</td>\n",
       "      <td>0.0</td>\n",
       "      <td>0.0</td>\n",
       "    </tr>\n",
       "    <tr>\n",
       "      <th>1</th>\n",
       "      <td>0.0</td>\n",
       "      <td>1.0</td>\n",
       "      <td>0.0</td>\n",
       "      <td>0.0</td>\n",
       "    </tr>\n",
       "    <tr>\n",
       "      <th>2</th>\n",
       "      <td>0.0</td>\n",
       "      <td>1.0</td>\n",
       "      <td>0.0</td>\n",
       "      <td>0.0</td>\n",
       "    </tr>\n",
       "    <tr>\n",
       "      <th>3</th>\n",
       "      <td>0.0</td>\n",
       "      <td>1.0</td>\n",
       "      <td>0.0</td>\n",
       "      <td>0.0</td>\n",
       "    </tr>\n",
       "    <tr>\n",
       "      <th>4</th>\n",
       "      <td>0.0</td>\n",
       "      <td>1.0</td>\n",
       "      <td>0.0</td>\n",
       "      <td>0.0</td>\n",
       "    </tr>\n",
       "    <tr>\n",
       "      <th>...</th>\n",
       "      <td>...</td>\n",
       "      <td>...</td>\n",
       "      <td>...</td>\n",
       "      <td>...</td>\n",
       "    </tr>\n",
       "    <tr>\n",
       "      <th>193</th>\n",
       "      <td>0.0</td>\n",
       "      <td>0.0</td>\n",
       "      <td>0.0</td>\n",
       "      <td>0.0</td>\n",
       "    </tr>\n",
       "    <tr>\n",
       "      <th>194</th>\n",
       "      <td>0.0</td>\n",
       "      <td>0.0</td>\n",
       "      <td>0.0</td>\n",
       "      <td>0.0</td>\n",
       "    </tr>\n",
       "    <tr>\n",
       "      <th>195</th>\n",
       "      <td>0.0</td>\n",
       "      <td>0.0</td>\n",
       "      <td>0.0</td>\n",
       "      <td>0.0</td>\n",
       "    </tr>\n",
       "    <tr>\n",
       "      <th>196</th>\n",
       "      <td>0.0</td>\n",
       "      <td>0.0</td>\n",
       "      <td>0.0</td>\n",
       "      <td>0.0</td>\n",
       "    </tr>\n",
       "    <tr>\n",
       "      <th>197</th>\n",
       "      <td>0.0</td>\n",
       "      <td>0.0</td>\n",
       "      <td>0.0</td>\n",
       "      <td>0.0</td>\n",
       "    </tr>\n",
       "  </tbody>\n",
       "</table>\n",
       "<p>198 rows × 4 columns</p>\n",
       "</div>"
      ],
      "text/plain": [
       "     Color_Blue-White  Color_Red  Color_White  Color_Yellow-White\n",
       "0                 0.0        1.0          0.0                 0.0\n",
       "1                 0.0        1.0          0.0                 0.0\n",
       "2                 0.0        1.0          0.0                 0.0\n",
       "3                 0.0        1.0          0.0                 0.0\n",
       "4                 0.0        1.0          0.0                 0.0\n",
       "..                ...        ...          ...                 ...\n",
       "193               0.0        0.0          0.0                 0.0\n",
       "194               0.0        0.0          0.0                 0.0\n",
       "195               0.0        0.0          0.0                 0.0\n",
       "196               0.0        0.0          0.0                 0.0\n",
       "197               0.0        0.0          0.0                 0.0\n",
       "\n",
       "[198 rows x 4 columns]"
      ]
     },
     "execution_count": 431,
     "metadata": {},
     "output_type": "execute_result"
    }
   ],
   "source": [
    "colors = O_enc.fit_transform(df[['Color']])\n",
    "colors  = pd.DataFrame(colors, columns=O_enc.get_feature_names_out())\n",
    "colors"
   ]
  },
  {
   "cell_type": "code",
   "execution_count": 432,
   "id": "ff7e7509",
   "metadata": {},
   "outputs": [],
   "source": [
    "df.reset_index(drop=True,inplace=True)"
   ]
  },
  {
   "cell_type": "code",
   "execution_count": 433,
   "id": "de2320ff",
   "metadata": {},
   "outputs": [],
   "source": [
    "df = pd.concat([df.drop(columns=['Color']),colors],axis=1)"
   ]
  },
  {
   "cell_type": "code",
   "execution_count": 434,
   "id": "f0a3f104",
   "metadata": {},
   "outputs": [
    {
     "data": {
      "text/html": [
       "<div>\n",
       "<style scoped>\n",
       "    .dataframe tbody tr th:only-of-type {\n",
       "        vertical-align: middle;\n",
       "    }\n",
       "\n",
       "    .dataframe tbody tr th {\n",
       "        vertical-align: top;\n",
       "    }\n",
       "\n",
       "    .dataframe thead th {\n",
       "        text-align: right;\n",
       "    }\n",
       "</style>\n",
       "<table border=\"1\" class=\"dataframe\">\n",
       "  <thead>\n",
       "    <tr style=\"text-align: right;\">\n",
       "      <th></th>\n",
       "      <th>Temperature</th>\n",
       "      <th>L</th>\n",
       "      <th>R</th>\n",
       "      <th>A_M</th>\n",
       "      <th>Spectral_Class</th>\n",
       "      <th>Type</th>\n",
       "      <th>Color_Blue-White</th>\n",
       "      <th>Color_Red</th>\n",
       "      <th>Color_White</th>\n",
       "      <th>Color_Yellow-White</th>\n",
       "    </tr>\n",
       "  </thead>\n",
       "  <tbody>\n",
       "    <tr>\n",
       "      <th>0</th>\n",
       "      <td>3068</td>\n",
       "      <td>0.002400</td>\n",
       "      <td>0.1700</td>\n",
       "      <td>16.120</td>\n",
       "      <td>3</td>\n",
       "      <td>0</td>\n",
       "      <td>0.0</td>\n",
       "      <td>1.0</td>\n",
       "      <td>0.0</td>\n",
       "      <td>0.0</td>\n",
       "    </tr>\n",
       "    <tr>\n",
       "      <th>1</th>\n",
       "      <td>3042</td>\n",
       "      <td>0.000500</td>\n",
       "      <td>0.1542</td>\n",
       "      <td>16.600</td>\n",
       "      <td>3</td>\n",
       "      <td>0</td>\n",
       "      <td>0.0</td>\n",
       "      <td>1.0</td>\n",
       "      <td>0.0</td>\n",
       "      <td>0.0</td>\n",
       "    </tr>\n",
       "    <tr>\n",
       "      <th>2</th>\n",
       "      <td>2600</td>\n",
       "      <td>0.000300</td>\n",
       "      <td>0.1020</td>\n",
       "      <td>18.700</td>\n",
       "      <td>3</td>\n",
       "      <td>0</td>\n",
       "      <td>0.0</td>\n",
       "      <td>1.0</td>\n",
       "      <td>0.0</td>\n",
       "      <td>0.0</td>\n",
       "    </tr>\n",
       "    <tr>\n",
       "      <th>3</th>\n",
       "      <td>2800</td>\n",
       "      <td>0.000200</td>\n",
       "      <td>0.1600</td>\n",
       "      <td>16.650</td>\n",
       "      <td>3</td>\n",
       "      <td>0</td>\n",
       "      <td>0.0</td>\n",
       "      <td>1.0</td>\n",
       "      <td>0.0</td>\n",
       "      <td>0.0</td>\n",
       "    </tr>\n",
       "    <tr>\n",
       "      <th>4</th>\n",
       "      <td>1939</td>\n",
       "      <td>0.000138</td>\n",
       "      <td>0.1030</td>\n",
       "      <td>20.060</td>\n",
       "      <td>3</td>\n",
       "      <td>0</td>\n",
       "      <td>0.0</td>\n",
       "      <td>1.0</td>\n",
       "      <td>0.0</td>\n",
       "      <td>0.0</td>\n",
       "    </tr>\n",
       "    <tr>\n",
       "      <th>...</th>\n",
       "      <td>...</td>\n",
       "      <td>...</td>\n",
       "      <td>...</td>\n",
       "      <td>...</td>\n",
       "      <td>...</td>\n",
       "      <td>...</td>\n",
       "      <td>...</td>\n",
       "      <td>...</td>\n",
       "      <td>...</td>\n",
       "      <td>...</td>\n",
       "    </tr>\n",
       "    <tr>\n",
       "      <th>193</th>\n",
       "      <td>18734</td>\n",
       "      <td>224780.000000</td>\n",
       "      <td>46.0000</td>\n",
       "      <td>-7.450</td>\n",
       "      <td>4</td>\n",
       "      <td>4</td>\n",
       "      <td>0.0</td>\n",
       "      <td>0.0</td>\n",
       "      <td>0.0</td>\n",
       "      <td>0.0</td>\n",
       "    </tr>\n",
       "    <tr>\n",
       "      <th>194</th>\n",
       "      <td>9892</td>\n",
       "      <td>593900.000000</td>\n",
       "      <td>80.0000</td>\n",
       "      <td>-7.262</td>\n",
       "      <td>4</td>\n",
       "      <td>4</td>\n",
       "      <td>0.0</td>\n",
       "      <td>0.0</td>\n",
       "      <td>0.0</td>\n",
       "      <td>0.0</td>\n",
       "    </tr>\n",
       "    <tr>\n",
       "      <th>195</th>\n",
       "      <td>10930</td>\n",
       "      <td>783930.000000</td>\n",
       "      <td>25.0000</td>\n",
       "      <td>-6.224</td>\n",
       "      <td>4</td>\n",
       "      <td>4</td>\n",
       "      <td>0.0</td>\n",
       "      <td>0.0</td>\n",
       "      <td>0.0</td>\n",
       "      <td>0.0</td>\n",
       "    </tr>\n",
       "    <tr>\n",
       "      <th>196</th>\n",
       "      <td>23095</td>\n",
       "      <td>347820.000000</td>\n",
       "      <td>86.0000</td>\n",
       "      <td>-5.905</td>\n",
       "      <td>4</td>\n",
       "      <td>4</td>\n",
       "      <td>0.0</td>\n",
       "      <td>0.0</td>\n",
       "      <td>0.0</td>\n",
       "      <td>0.0</td>\n",
       "    </tr>\n",
       "    <tr>\n",
       "      <th>197</th>\n",
       "      <td>21738</td>\n",
       "      <td>748890.000000</td>\n",
       "      <td>92.0000</td>\n",
       "      <td>-7.346</td>\n",
       "      <td>4</td>\n",
       "      <td>4</td>\n",
       "      <td>0.0</td>\n",
       "      <td>0.0</td>\n",
       "      <td>0.0</td>\n",
       "      <td>0.0</td>\n",
       "    </tr>\n",
       "  </tbody>\n",
       "</table>\n",
       "<p>198 rows × 10 columns</p>\n",
       "</div>"
      ],
      "text/plain": [
       "     Temperature              L        R     A_M  Spectral_Class  Type  \\\n",
       "0           3068       0.002400   0.1700  16.120               3     0   \n",
       "1           3042       0.000500   0.1542  16.600               3     0   \n",
       "2           2600       0.000300   0.1020  18.700               3     0   \n",
       "3           2800       0.000200   0.1600  16.650               3     0   \n",
       "4           1939       0.000138   0.1030  20.060               3     0   \n",
       "..           ...            ...      ...     ...             ...   ...   \n",
       "193        18734  224780.000000  46.0000  -7.450               4     4   \n",
       "194         9892  593900.000000  80.0000  -7.262               4     4   \n",
       "195        10930  783930.000000  25.0000  -6.224               4     4   \n",
       "196        23095  347820.000000  86.0000  -5.905               4     4   \n",
       "197        21738  748890.000000  92.0000  -7.346               4     4   \n",
       "\n",
       "     Color_Blue-White  Color_Red  Color_White  Color_Yellow-White  \n",
       "0                 0.0        1.0          0.0                 0.0  \n",
       "1                 0.0        1.0          0.0                 0.0  \n",
       "2                 0.0        1.0          0.0                 0.0  \n",
       "3                 0.0        1.0          0.0                 0.0  \n",
       "4                 0.0        1.0          0.0                 0.0  \n",
       "..                ...        ...          ...                 ...  \n",
       "193               0.0        0.0          0.0                 0.0  \n",
       "194               0.0        0.0          0.0                 0.0  \n",
       "195               0.0        0.0          0.0                 0.0  \n",
       "196               0.0        0.0          0.0                 0.0  \n",
       "197               0.0        0.0          0.0                 0.0  \n",
       "\n",
       "[198 rows x 10 columns]"
      ]
     },
     "execution_count": 434,
     "metadata": {},
     "output_type": "execute_result"
    }
   ],
   "source": [
    "df"
   ]
  },
  {
   "cell_type": "code",
   "execution_count": 435,
   "id": "9d5fa338",
   "metadata": {},
   "outputs": [],
   "source": [
    "x = df.drop(columns=['Type'])\n",
    "y = df['Type']"
   ]
  },
  {
   "cell_type": "code",
   "execution_count": 436,
   "id": "fb2b6a01",
   "metadata": {},
   "outputs": [],
   "source": [
    "x_train, x_test, y_train, y_test = train_test_split(x, y, test_size=0.2, stratify=y, random_state=7)"
   ]
  },
  {
   "cell_type": "code",
   "execution_count": 437,
   "id": "27c410c8",
   "metadata": {},
   "outputs": [],
   "source": [
    "scaler = RobustScaler()"
   ]
  },
  {
   "cell_type": "code",
   "execution_count": 438,
   "id": "c3528141",
   "metadata": {},
   "outputs": [
    {
     "data": {
      "text/plain": [
       "Index(['Temperature', 'L', 'R', 'A_M', 'Spectral_Class', 'Color_Blue-White',\n",
       "       'Color_Red', 'Color_White', 'Color_Yellow-White'],\n",
       "      dtype='object')"
      ]
     },
     "execution_count": 438,
     "metadata": {},
     "output_type": "execute_result"
    }
   ],
   "source": [
    "columns_to_be_scaled = x_train.select_dtypes(include='number').columns\n",
    "columns_to_be_scaled"
   ]
  },
  {
   "cell_type": "code",
   "execution_count": 439,
   "id": "06ea9365",
   "metadata": {},
   "outputs": [],
   "source": [
    "x_train[columns_to_be_scaled] = scaler.fit_transform(x_train[columns_to_be_scaled])\n",
    "x_test[columns_to_be_scaled] = scaler.transform(x_test[columns_to_be_scaled])"
   ]
  },
  {
   "cell_type": "code",
   "execution_count": 440,
   "id": "05ff64d0",
   "metadata": {},
   "outputs": [],
   "source": [
    "from sklearn.linear_model import LogisticRegression"
   ]
  },
  {
   "cell_type": "code",
   "execution_count": 441,
   "id": "1d1d211e",
   "metadata": {},
   "outputs": [],
   "source": [
    "model = LogisticRegression(multi_class='ovr')"
   ]
  },
  {
   "cell_type": "code",
   "execution_count": 442,
   "id": "a139231d",
   "metadata": {},
   "outputs": [
    {
     "data": {
      "text/plain": [
       "LogisticRegression(multi_class='ovr')"
      ]
     },
     "execution_count": 442,
     "metadata": {},
     "output_type": "execute_result"
    }
   ],
   "source": [
    "model.fit(x_train, y_train)"
   ]
  },
  {
   "cell_type": "code",
   "execution_count": 443,
   "id": "cf76e74f",
   "metadata": {},
   "outputs": [],
   "source": [
    "y_test_pred =model.predict(x_test)\n",
    "y_train_pred = model.predict(x_train)"
   ]
  },
  {
   "cell_type": "code",
   "execution_count": 444,
   "id": "912adec5",
   "metadata": {},
   "outputs": [
    {
     "name": "stdout",
     "output_type": "stream",
     "text": [
      "Train accuracy is  0.9873417721518988\n",
      "Test accuracy is  1.0\n"
     ]
    },
    {
     "data": {
      "text/plain": [
       "<sklearn.metrics._plot.confusion_matrix.ConfusionMatrixDisplay at 0x2d861227880>"
      ]
     },
     "execution_count": 444,
     "metadata": {},
     "output_type": "execute_result"
    },
    {
     "data": {
      "image/png": "[encoded data removed]",
      "text/plain": [
       "<Figure size 1296x576 with 2 Axes>"
      ]
     },
     "metadata": {},
     "output_type": "display_data"
    }
   ],
   "source": [
    "from sklearn.metrics import accuracy_score , confusion_matrix , ConfusionMatrixDisplay\n",
    "\n",
    "print(\"Train accuracy is \" , accuracy_score(y_train , y_train_pred))\n",
    "print(\"Test accuracy is \" , accuracy_score(y_test , y_test_pred))\n",
    "\n",
    "cm = confusion_matrix(y_test , y_test_pred )\n",
    "ConfusionMatrixDisplay(cm , display_labels=target_encoder.inverse_transform(model.classes_)).plot()"
   ]
  },
  {
   "cell_type": "code",
   "execution_count": null,
   "id": "4404d046",
   "metadata": {},
   "outputs": [],
   "source": []
  },
  {
   "cell_type": "code",
   "execution_count": null,
   "id": "5ef79779",
   "metadata": {},
   "outputs": [],
   "source": []
  },
  {
   "cell_type": "code",
   "execution_count": null,
   "id": "160b9d58",
   "metadata": {},
   "outputs": [],
   "source": []
  }
 ],
 "metadata": {
  "kernelspec": {
   "display_name": "Python 3 (ipykernel)",
   "language": "python",
   "name": "python3"
  },
  "language_info": {
   "codemirror_mode": {
    "name": "ipython",
    "version": 3
   },
   "file_extension": ".py",
   "mimetype": "text/x-python",
   "name": "python",
   "nbconvert_exporter": "python",
   "pygments_lexer": "ipython3",
   "version": "3.10.4"
  }
 },
 "nbformat": 4,
 "nbformat_minor": 5
}
